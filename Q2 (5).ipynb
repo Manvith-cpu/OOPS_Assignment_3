{
 "cells": [
  {
   "cell_type": "markdown",
   "id": "2b662036-63a4-49a6-86e9-7bf6ff0c8bdb",
   "metadata": {},
   "source": [
    "## Abstraction is a process of hiding the implementation details of a system from the user, and only the functional details will be available to the user end. On the other hand, Encapsulation is a method of wrapping up the data and code acting on the data into a single unit."
   ]
  },
  {
   "cell_type": "code",
   "execution_count": 9,
   "id": "c047622a-2949-4a23-89b3-dd27aa43b212",
   "metadata": {},
   "outputs": [],
   "source": [
    "# Encapsulation:\n",
    "class car:\n",
    "    def __init__(self,year,make,model,speed):\n",
    "        self.__year=year # Private\n",
    "        self.make=make\n",
    "        self.model=model\n",
    "        self.__speed=speed\n",
    "    \n",
    "    def set_speed(self,speed):\n",
    "        self.__speed=0 if speed<0 else speed\n",
    "        \n",
    "    def get_speed(self):\n",
    "        return self.__speed"
   ]
  },
  {
   "cell_type": "code",
   "execution_count": 13,
   "id": "e71d7935-1f31-4814-b5bb-3116a5c233d5",
   "metadata": {},
   "outputs": [],
   "source": [
    "c=car(2012,\"Toyota\",\"Glanza\",123)"
   ]
  },
  {
   "cell_type": "code",
   "execution_count": 14,
   "id": "8a15b2e2-4ed4-42ef-9fc1-7db801f143f2",
   "metadata": {},
   "outputs": [
    {
     "ename": "AttributeError",
     "evalue": "'car' object has no attribute 'year'",
     "output_type": "error",
     "traceback": [
      "\u001b[0;31m---------------------------------------------------------------------------\u001b[0m",
      "\u001b[0;31mAttributeError\u001b[0m                            Traceback (most recent call last)",
      "Cell \u001b[0;32mIn[14], line 1\u001b[0m\n\u001b[0;32m----> 1\u001b[0m \u001b[43mc\u001b[49m\u001b[38;5;241;43m.\u001b[39;49m\u001b[43myear\u001b[49m \u001b[38;5;66;03m#error bcoz it is encapsulated\u001b[39;00m\n",
      "\u001b[0;31mAttributeError\u001b[0m: 'car' object has no attribute 'year'"
     ]
    }
   ],
   "source": [
    "c.year #error bcoz it is encapsulated"
   ]
  },
  {
   "cell_type": "code",
   "execution_count": 15,
   "id": "e38258c0-39bb-493d-afc0-c9911453e599",
   "metadata": {},
   "outputs": [],
   "source": [
    "c.set_speed(234)"
   ]
  },
  {
   "cell_type": "code",
   "execution_count": 16,
   "id": "51ff9040-e170-408d-a253-721bf00344b1",
   "metadata": {},
   "outputs": [
    {
     "data": {
      "text/plain": [
       "234"
      ]
     },
     "execution_count": 16,
     "metadata": {},
     "output_type": "execute_result"
    }
   ],
   "source": [
    "c.get_speed()"
   ]
  },
  {
   "cell_type": "code",
   "execution_count": 17,
   "id": "8f5efb17-9e1f-4029-961a-7a681bc9943c",
   "metadata": {},
   "outputs": [],
   "source": [
    "# Abstraction"
   ]
  },
  {
   "cell_type": "code",
   "execution_count": 18,
   "id": "52db0dad-80f2-41b4-8a4a-a146ff446dbc",
   "metadata": {},
   "outputs": [],
   "source": [
    "import abc\n",
    "class pwskills:\n",
    "    @abc.abstractmethod\n",
    "    def student_details(self):\n",
    "        pass\n",
    "    @abc.abstractmethod\n",
    "    def student_assignment(self):\n",
    "        pass\n",
    "    @abc.abstractmethod\n",
    "    def student_marks(self):\n",
    "        pass"
   ]
  },
  {
   "cell_type": "code",
   "execution_count": 19,
   "id": "cb53b13f-93ea-41fc-805d-0402d32e0ebe",
   "metadata": {},
   "outputs": [],
   "source": [
    "class details(pwskills):\n",
    "    def student_details(self):\n",
    "        return \"These are the details of students\" \n",
    "    def student_assignment(self):\n",
    "        return \"These are the assignments of students\""
   ]
  },
  {
   "cell_type": "code",
   "execution_count": 20,
   "id": "d0543149-24e5-4df4-b564-fc75c8f4caac",
   "metadata": {},
   "outputs": [],
   "source": [
    "class data_science_master(pwskills):\n",
    "    def student_details(self):\n",
    "        return \"These are student details for data science masters\"\n",
    "    def student_assignment(self):\n",
    "        return \"Thsere are student assignments for data science masters\""
   ]
  },
  {
   "cell_type": "code",
   "execution_count": 21,
   "id": "5fbf865c-35ea-4479-91f5-9e89bd60bfd3",
   "metadata": {},
   "outputs": [
    {
     "data": {
      "text/plain": [
       "'These are student details for data science masters'"
      ]
     },
     "execution_count": 21,
     "metadata": {},
     "output_type": "execute_result"
    }
   ],
   "source": [
    "dsm=data_science_master()\n",
    "dsm.student_details()"
   ]
  },
  {
   "cell_type": "code",
   "execution_count": 22,
   "id": "14f7c77d-ea55-4fe5-8377-0f263f081aec",
   "metadata": {},
   "outputs": [
    {
     "data": {
      "text/plain": [
       "'These are the details of students'"
      ]
     },
     "execution_count": 22,
     "metadata": {},
     "output_type": "execute_result"
    }
   ],
   "source": [
    "sd=details()\n",
    "sd.student_details()"
   ]
  }
 ],
 "metadata": {
  "kernelspec": {
   "display_name": "Python 3 (ipykernel)",
   "language": "python",
   "name": "python3"
  },
  "language_info": {
   "codemirror_mode": {
    "name": "ipython",
    "version": 3
   },
   "file_extension": ".py",
   "mimetype": "text/x-python",
   "name": "python",
   "nbconvert_exporter": "python",
   "pygments_lexer": "ipython3",
   "version": "3.10.8"
  }
 },
 "nbformat": 4,
 "nbformat_minor": 5
}
