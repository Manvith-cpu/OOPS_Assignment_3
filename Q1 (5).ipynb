{
 "cells": [
  {
   "cell_type": "markdown",
   "id": "e651748f-4061-4046-84cc-7bef0e9b5039",
   "metadata": {},
   "source": [
    "## What is Abstraction in OOps? Explain with an example."
   ]
  },
  {
   "cell_type": "markdown",
   "id": "002f8509-5ade-4b20-ad40-70953b9b4581",
   "metadata": {},
   "source": [
    "##  Abstraction is the concept of object-oriented programming that “shows” only essential attributes and “hides” unnecessary information. "
   ]
  },
  {
   "cell_type": "code",
   "execution_count": 1,
   "id": "81b239a9-208b-4a17-95be-723a57cf6225",
   "metadata": {},
   "outputs": [],
   "source": [
    "import abc\n",
    "class pwskills:\n",
    "    @abc.abstractmethod\n",
    "    def student_details(self):\n",
    "        pass\n",
    "    @abc.abstractmethod\n",
    "    def student_assignment(self):\n",
    "        pass\n",
    "    @abc.abstractmethod\n",
    "    def student_marks(self):\n",
    "        pass"
   ]
  },
  {
   "cell_type": "code",
   "execution_count": 2,
   "id": "f088da6d-83c8-43b3-a820-19a5d05687c8",
   "metadata": {},
   "outputs": [],
   "source": [
    "class details(pwskills):\n",
    "    def student_details(self):\n",
    "        return \"These are the details of students\" \n",
    "    def student_assignment(self):\n",
    "        return \"These are the assignments of students\""
   ]
  },
  {
   "cell_type": "code",
   "execution_count": 3,
   "id": "fcfc96cf-7d7a-4f83-83ed-878adb63caeb",
   "metadata": {},
   "outputs": [],
   "source": [
    "class data_science_master(pwskills):\n",
    "    def student_details(self):\n",
    "        return \"These are student details for data science masters\"\n",
    "    def student_assignment(self):\n",
    "        return \"Thsere are student assignments for data science masters\""
   ]
  },
  {
   "cell_type": "code",
   "execution_count": 4,
   "id": "1c340671-9b3d-4734-a901-7b4950cd89f0",
   "metadata": {},
   "outputs": [
    {
     "data": {
      "text/plain": [
       "'These are student details for data science masters'"
      ]
     },
     "execution_count": 4,
     "metadata": {},
     "output_type": "execute_result"
    }
   ],
   "source": [
    "dsm=data_science_master()\n",
    "dsm.student_details()"
   ]
  },
  {
   "cell_type": "code",
   "execution_count": 5,
   "id": "fd3010c2-0b8b-4563-8a84-4a3ffba5f9d2",
   "metadata": {},
   "outputs": [
    {
     "data": {
      "text/plain": [
       "'These are the details of students'"
      ]
     },
     "execution_count": 5,
     "metadata": {},
     "output_type": "execute_result"
    }
   ],
   "source": [
    "sd=details()\n",
    "sd.student_details()"
   ]
  }
 ],
 "metadata": {
  "kernelspec": {
   "display_name": "Python 3 (ipykernel)",
   "language": "python",
   "name": "python3"
  },
  "language_info": {
   "codemirror_mode": {
    "name": "ipython",
    "version": 3
   },
   "file_extension": ".py",
   "mimetype": "text/x-python",
   "name": "python",
   "nbconvert_exporter": "python",
   "pygments_lexer": "ipython3",
   "version": "3.10.8"
  }
 },
 "nbformat": 4,
 "nbformat_minor": 5
}
