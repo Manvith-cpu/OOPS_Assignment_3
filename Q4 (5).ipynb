{
 "cells": [
  {
   "cell_type": "markdown",
   "id": "1198c870-fb81-4129-ac98-61ffe56e0bb9",
   "metadata": {},
   "source": [
    "## Data Abstraction in Python can be achieved through creating abstract classes and inheriting them later"
   ]
  },
  {
   "cell_type": "code",
   "execution_count": null,
   "id": "f8b0783f-bc8c-46e3-be86-d73862a2cc72",
   "metadata": {},
   "outputs": [],
   "source": []
  }
 ],
 "metadata": {
  "kernelspec": {
   "display_name": "Python 3 (ipykernel)",
   "language": "python",
   "name": "python3"
  },
  "language_info": {
   "codemirror_mode": {
    "name": "ipython",
    "version": 3
   },
   "file_extension": ".py",
   "mimetype": "text/x-python",
   "name": "python",
   "nbconvert_exporter": "python",
   "pygments_lexer": "ipython3",
   "version": "3.10.8"
  }
 },
 "nbformat": 4,
 "nbformat_minor": 5
}
